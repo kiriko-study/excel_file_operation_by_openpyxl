{
 "cells": [
  {
   "cell_type": "markdown",
   "id": "3c7228bc-f965-4e21-a8b0-2e6bb13d7ac7",
   "metadata": {},
   "source": [
    "# ライブラリのインストールとインポート\n",
    "コマンドプロンプトを起動してpipでopenpyxlライブラリをインストールします。"
   ]
  },
  {
   "cell_type": "code",
   "execution_count": null,
   "id": "a3bf5105-b9c1-4f7f-947a-4d56d8d714d1",
   "metadata": {},
   "outputs": [],
   "source": [
    "# pip install openpyxl\n",
    "!pip install --no-deps openpyxl-3.0.10-py2.py3-none-any.whl\n",
    "!pip install --no-deps et_xmlfile-1.1.0-py3-none-any.whl"
   ]
  },
  {
   "cell_type": "markdown",
   "id": "b64735df-38ee-4a08-a028-0cdbeec2581a",
   "metadata": {},
   "source": [
    "Successfully installed openpyxl-*.*.* と表示されればインストールは成功です。\n",
    "\n",
    "インストールが完了したら openpyxl をインポートします。"
   ]
  },
  {
   "cell_type": "code",
   "execution_count": null,
   "id": "bcebc0df-d0ac-465c-b66d-8f7415eade58",
   "metadata": {
    "tags": []
   },
   "outputs": [],
   "source": [
    "import openpyxl as op\n",
    "from openpyxl import Workbook"
   ]
  },
  {
   "cell_type": "markdown",
   "id": "eceec018-47a8-429d-9f2c-fba3caba1b2a",
   "metadata": {},
   "source": [
    "# openpyxlの使い方\n",
    "openpyxl は、Excelファイル（xlsx/xlsm/xltx/xltm）の読み書きを行うためのライブラリです。\n",
    "\n",
    "操作を行うためには、openpyxlのメソッドでワークブックを開き、どのシート、どのセルに操作を行うのかを指定する必要があります。\n",
    "\n",
    "エクセルマクロの記述とよく似ている為、マクロを利用した事がある方はイメージが湧くと思います。"
   ]
  },
  {
   "cell_type": "markdown",
   "id": "547732d4-7f37-41b9-a31a-1a40ba4d837e",
   "metadata": {},
   "source": [
    "# サンプルファイル\n",
    "Excelファイルは以下のsample.xlsxを使用します。ファイルはpythonスクリプトファイルと同じフォルダに保存されているものとします。"
   ]
  },
  {
   "cell_type": "markdown",
   "id": "9e562fdd-d0cc-4a39-8955-6ce6e4c5b9ac",
   "metadata": {},
   "source": [
    "# ワークブックを操作する\n",
    "ワークブックの新規作成、既存ブックの読み込み、保存操作が可能です。\n",
    "\n",
    "## ワークブックを新規作成\n",
    "ブックを新規で作成するには wrokbook() メソッドを使用します。引数は不要です。"
   ]
  },
  {
   "cell_type": "code",
   "execution_count": null,
   "id": "a5900f03-be65-4049-8e7e-072eb8c54868",
   "metadata": {},
   "outputs": [],
   "source": [
    "wb = Workbook()"
   ]
  },
  {
   "cell_type": "markdown",
   "id": "d8f1e5de-ecf4-40bc-ac8e-3c5dba346c18",
   "metadata": {},
   "source": [
    "## ワークブックを読み込む\n",
    "既存のExcelファイルを読み込むには openpyxl.load_workbook() でExcelファイルのパスを指定します。"
   ]
  },
  {
   "cell_type": "code",
   "execution_count": null,
   "id": "9760abaa-08bb-4ece-bb9e-82596755e61d",
   "metadata": {},
   "outputs": [],
   "source": [
    "wb = op.load_workbook('sample.xlsx')\n",
    "print(wb.sheetnames)\n",
    "#['2020', '2021']"
   ]
  },
  {
   "cell_type": "markdown",
   "id": "dee6e413-d28a-4415-9291-e58ac7a8a764",
   "metadata": {},
   "source": [
    "## ワークブックを保存する\n",
    "ブックを保存するには save() メソッドを使用して、引数はファイルのパスを指定します。\n",
    "上書き保存する場合は、読み込んだファイルと同名を指定します。"
   ]
  },
  {
   "cell_type": "code",
   "execution_count": null,
   "id": "6b3c8813-5994-4d49-b335-496c11e21711",
   "metadata": {},
   "outputs": [],
   "source": [
    "#上書き保存\n",
    "wb.save('sample.xlsx')\n",
    "\n",
    "#別名で保存\n",
    "wb.save('sample_test.xlsx')"
   ]
  },
  {
   "cell_type": "markdown",
   "id": "ae0cdbfe-a987-4994-b57a-429f18e1108e",
   "metadata": {},
   "source": [
    "## ワークブックを閉じる\n",
    "ブックを閉じるには close() メソッドを使用します。"
   ]
  },
  {
   "cell_type": "code",
   "execution_count": null,
   "id": "9363a2b0-6c4e-4000-923a-a0200a1d3fa6",
   "metadata": {},
   "outputs": [],
   "source": [
    "wb.close()"
   ]
  },
  {
   "cell_type": "markdown",
   "id": "c89c7fd9-6dba-4572-b3b3-8250f7032898",
   "metadata": {},
   "source": [
    "# ワークシート操作\n",
    "## ワークシートの取得\n",
    "ワークブックオブジェクトから[シート名]でワークシートオブジェクトを取得できます。\n",
    "\n",
    "インデックス番号を指定して取得することもできます。インデックスは左端が0になります。"
   ]
  },
  {
   "cell_type": "code",
   "execution_count": null,
   "id": "b19ebdbb-be6a-4d52-8f01-ff073971c59d",
   "metadata": {},
   "outputs": [],
   "source": [
    "#シート名を指定して取得\n",
    "ws = wb['2020']\n",
    "\n",
    "#先頭のシートを取得（先頭のインデックス番号は0）\n",
    "ws = wb.worksheets[0]"
   ]
  },
  {
   "cell_type": "markdown",
   "id": "bdc482db-ff14-45e5-8394-37e35bb33a8b",
   "metadata": {},
   "source": [
    "アクティブシートを選択するには active プロパティで選択できます。"
   ]
  },
  {
   "cell_type": "code",
   "execution_count": null,
   "id": "155a6684-2b96-43f4-b75f-d6f3bfea6ac9",
   "metadata": {},
   "outputs": [],
   "source": [
    "ws = wb.active"
   ]
  },
  {
   "cell_type": "markdown",
   "id": "74fb90db-65ce-4c56-aed6-5ed61e7ad57b",
   "metadata": {},
   "source": [
    "## ワークシート名を取得する\n",
    "読み込んだワークブックのシート名を取得するには sheetnames プロパティを使用します。\n",
    "結果はリストになります。"
   ]
  },
  {
   "cell_type": "code",
   "execution_count": null,
   "id": "f2763c99-fbe1-4307-86d4-b62a3eb3f6c8",
   "metadata": {},
   "outputs": [],
   "source": [
    "print(wb.sheetnames)\n",
    "# ['2020', '2021']"
   ]
  },
  {
   "cell_type": "markdown",
   "id": "a19ebc54-cd6b-480c-bbe5-299b5de542da",
   "metadata": {},
   "source": [
    "## ワークシートを追加する\n",
    "ワークシートを追加するには create_sheet() メソッドで、引数に追加するシート名と追加位置を指定します。\n",
    "\n",
    " ワークシートオブジェクト.create_sheet(title=追加するシート名, index=追加位置のインデックス番号)\n",
    "最後尾にシートを追加する場合は位置の指定は不要です。"
   ]
  },
  {
   "cell_type": "code",
   "execution_count": null,
   "id": "8c426ceb-bedd-4e38-8ee9-ea51a23c687e",
   "metadata": {},
   "outputs": [],
   "source": [
    "ws_2022 = wb.create_sheet(title='2022')\n",
    "print(wb.sheetnames)\n",
    "# ['2020', '2021', '2022']"
   ]
  },
  {
   "cell_type": "markdown",
   "id": "fbd40869-35ff-49b9-80da-caa0f52e1fd3",
   "metadata": {},
   "source": [
    "位置を指定して追加する（第二引数で位置＝インデックスを指定）"
   ]
  },
  {
   "cell_type": "code",
   "execution_count": null,
   "id": "ffe27e90-9238-4586-ad08-deda78b15671",
   "metadata": {},
   "outputs": [],
   "source": [
    "ws_new = wb.create_sheet(title='Sheet_New', index=1)\n",
    "print(wb.sheetnames)\n",
    "# ['2020', 'Sheet_New', '2021', '2022']"
   ]
  },
  {
   "cell_type": "markdown",
   "id": "be7f5d3b-4b3c-4f93-ade3-59882b8243dd",
   "metadata": {},
   "source": [
    "インデックスは先頭が０となり、最後尾に追加する場合は引数の省略可。"
   ]
  },
  {
   "cell_type": "markdown",
   "id": "58384837-e4e9-41c0-9d8b-71ef2b71edce",
   "metadata": {},
   "source": [
    "## ワークシートをコピーする\n",
    "ワークシートをコピーするには copy_worksheet() メソッドを使用します。引数でコピー元のワークシートを指定します。\n",
    "\n",
    "コピーしたシート名は「元のシート名 Copy」となる。コピー先の位置の指定はできません。\n",
    "\n",
    " ワークシートオブジェクト.copy_worksheet(コピー元のワークシート)"
   ]
  },
  {
   "cell_type": "code",
   "execution_count": null,
   "id": "ff12fe97-fe62-498d-8a37-c22d8046e313",
   "metadata": {},
   "outputs": [],
   "source": [
    "ws_copy = wb.copy_worksheet(wb['2022'])\n",
    "print(wb.sheetnames)\n",
    "# ['2920', 'Sheet_New', '2021', '2022', '2022 Copy']"
   ]
  },
  {
   "cell_type": "markdown",
   "id": "46069f77-9d95-4329-897f-8de06671f47f",
   "metadata": {},
   "source": [
    "## ワークシートを削除する\n",
    "ワークシートを削除するには remove() を使用します。引数にはコピー元のワークシートオブジェクトを指定します。複数のシートを一度に削除することはできません。\n",
    "\n",
    " ワークシートオブジェクト.remove(ワークシートオブジェクト)"
   ]
  },
  {
   "cell_type": "code",
   "execution_count": null,
   "id": "e6e22533-b2db-4791-a7ba-9f145f6236f7",
   "metadata": {},
   "outputs": [],
   "source": [
    "wb.remove(ws_new)\n",
    "print(wb.sheetnames)\n",
    "# ['2020', '2021', '2022', '2022 Copy']"
   ]
  },
  {
   "cell_type": "markdown",
   "id": "c69baafe-5a7e-422f-a2d5-7aff0a9c8af3",
   "metadata": {},
   "source": [
    "シート名を指定して削除したい場合は del を使用します。\n",
    "\n",
    " del ワークシートオブジェクト[削除するシート名]"
   ]
  },
  {
   "cell_type": "code",
   "execution_count": null,
   "id": "d8b5fd1e-0930-47e2-bdf1-65d7dea65d79",
   "metadata": {},
   "outputs": [],
   "source": [
    "del wb['2022 Copy']\n",
    "print(wb.sheetnames)\n",
    "# ['2020', '2021', '2022']"
   ]
  },
  {
   "cell_type": "markdown",
   "id": "9ca75084-9003-4441-b439-8a08361710e5",
   "metadata": {
    "tags": []
   },
   "source": [
    "## 複数のワークシートを削除する\n",
    "複数シートを削除するには、ブック内のシートをfor 文で一つずつ取り出して、削除したいシートのリストと照合し、マッチした場合は削除します。"
   ]
  },
  {
   "cell_type": "code",
   "execution_count": null,
   "id": "78ea0b12-0f50-4fdc-8e28-f74cea379672",
   "metadata": {},
   "outputs": [],
   "source": [
    "wb.create_sheet(title='Del_Sheet1')\n",
    "wb.create_sheet(title='Del_Sheet2')\n",
    "print(wb.sheetnames)\n",
    "\n",
    "del_sheets = ['Del_Sheet1', 'Del_Sheet2']\n",
    "for sheetName in wb.sheetnames:\n",
    "    if sheetName in del_sheets:\n",
    "        del wb[sheetName]\n",
    "print(wb.sheetnames)\n",
    "#['2020', '2021', '2022', 'Del_Sheet1', 'Del_Sheet2']\n",
    "#['2020', '2021', '2022']"
   ]
  },
  {
   "cell_type": "markdown",
   "id": "174f29ed-cdea-4703-918a-82ca75d86b16",
   "metadata": {},
   "source": [
    "## ワークシート名を変更する\n",
    "ワークシート名を変更するには、ワークシートオブジェクトの title プロパティを指定します。\n",
    "\n",
    " ワークシートオブジェクト.title = 変更後のワークシート名"
   ]
  },
  {
   "cell_type": "code",
   "execution_count": null,
   "id": "9a3d2115-2e8f-4656-8da2-61338670668c",
   "metadata": {},
   "outputs": [],
   "source": [
    "ws_2022.title = '2022rename'\n",
    "print(wb.sheetnames)\n",
    "# ['2020', '2021', '2022rename']"
   ]
  },
  {
   "cell_type": "markdown",
   "id": "b1368271-822a-438c-8e26-3775d4089624",
   "metadata": {},
   "source": [
    "## ワークシートのインデックス番号を取得する\n",
    "ワークシートのインデックス番号は index() メソッドで、ワークシートを引数に指定して取得します。"
   ]
  },
  {
   "cell_type": "code",
   "execution_count": null,
   "id": "bcde495f-fa9c-4114-b923-6418e5866fce",
   "metadata": {},
   "outputs": [],
   "source": [
    "num = wb.index(ws_2022)\n",
    "print(num)\n",
    "\n",
    "num = wb.index(wb['2020'])\n",
    "print(num)\n",
    "\n",
    "# 2\n",
    "# 0"
   ]
  },
  {
   "cell_type": "markdown",
   "id": "3c67aefa-c508-4e86-9be4-27d664d618f5",
   "metadata": {},
   "source": [
    "# セル操作\n",
    "## セル値の取得\n",
    "ワークシートオブジェクトから［’A1’］のようなセル指定文字列でセルオブジェクトを取得し、属性 value でセル値を取得できます。\n",
    "\n",
    " ワークシートオブジェクト[セル番地]"
   ]
  },
  {
   "cell_type": "code",
   "execution_count": null,
   "id": "2fea57aa-d6e9-4d72-885c-162f69dfecb9",
   "metadata": {},
   "outputs": [],
   "source": [
    "ws = wb['2020']\n",
    "cell = ws['B2']\n",
    "print(cell.value)\n",
    "#7.1"
   ]
  },
  {
   "cell_type": "markdown",
   "id": "9ce8ecbc-ec09-4368-a35b-256984c0e438",
   "metadata": {},
   "source": [
    "cell() メソッドで行番号(row)、列番号(column)を指定して取得することも可能です。\n",
    "行番号はExcelの行番号の数字をそのまま使い、列番号はA＝1, B＝2・・・と数値に読み換えて指定します。\n",
    "\n",
    " ワークシートオブジェクト.cell(row = 行番号, column = 列番号)\n",
    "row=, column= は省略も可能です。"
   ]
  },
  {
   "cell_type": "code",
   "execution_count": null,
   "id": "18503b7a-c696-4188-b8ee-818f1abd156c",
   "metadata": {},
   "outputs": [],
   "source": [
    "cell = ws.cell(row=3, column=2)\n",
    "print(cell.value)\n",
    "\n",
    "cell = ws.cell(7, 4)\n",
    "print(cell.value)\n",
    "\n",
    "#8.3\n",
    "#10.7"
   ]
  },
  {
   "cell_type": "markdown",
   "id": "e21f5427-149b-45f7-90d1-0f456e4837c3",
   "metadata": {},
   "source": [
    "## セル値の書き込み・削除\n",
    "セルに値を書き込むには、セルオブジェクトの属性 value に値を設定します。\n",
    "入力した値を実際のファイルに反映させるには、ワークブックを保存する必要があります。\n",
    "\n",
    " ワークシートオブジェクト[セル番地].value = 値\n",
    " ワークシートオブジェクト.cell(row = 行番号, column = 列番号).value = 値\n",
    " ワークシートオブジェクト.cell(row = 行番号, column = 列番号, value = 値)"
   ]
  },
  {
   "cell_type": "code",
   "execution_count": null,
   "id": "ef468ad6-9823-483e-9f4a-8e0a0d2167d8",
   "metadata": {},
   "outputs": [],
   "source": [
    "ws['B14'].value = 10.0\n",
    "print(ws['B14'].value)\n",
    "\n",
    "ws.cell(row=15, column=3).value = 11.0\n",
    "print(ws['C15'].value)\n",
    "\n",
    "ws.cell(row=16, column=4, value=12.0)\n",
    "print(ws['D16'].value)\n",
    "\n",
    "# 10.0\n",
    "# 11.0\n",
    "# 12.0"
   ]
  },
  {
   "cell_type": "code",
   "execution_count": null,
   "id": "b24e8cf7-1d49-4a51-b5df-f60ae633dcf7",
   "metadata": {},
   "outputs": [],
   "source": [
    "wb.save('sample_test.xlsx')"
   ]
  },
  {
   "cell_type": "markdown",
   "id": "5aec0f8b-778f-458b-b6ee-a0192d6f6142",
   "metadata": {},
   "source": [
    "値に 'None' を設定することで、セル値を削除する事が出来ます。"
   ]
  },
  {
   "cell_type": "code",
   "execution_count": null,
   "id": "717d3226-903c-4bac-8e8a-53c42a8b81bb",
   "metadata": {},
   "outputs": [],
   "source": [
    "ws['B14'].value = None\n",
    "print(ws['B14'].value)\n",
    "\n",
    "ws.cell(row=15, column=3).value = None\n",
    "print(ws['C15'].value)\n",
    "\n",
    "ws.cell(row=16, column=4).value = None\n",
    "print(ws['D16'].value)\n",
    "\n",
    "# None\n",
    "# None\n",
    "# None"
   ]
  },
  {
   "cell_type": "code",
   "execution_count": null,
   "id": "a8364428-6c29-4573-9371-a8b6131b1598",
   "metadata": {},
   "outputs": [],
   "source": [
    "wb.save('sample_test.xlsx')"
   ]
  },
  {
   "cell_type": "markdown",
   "id": "99a320f8-5824-4049-a953-0542def3e59e",
   "metadata": {},
   "source": [
    "## 数式を書き込む\n",
    "数式を書き込むには、数式の文字列を指定して書き込みます。\n",
    "\n",
    " セルオブジェクト.value = 数式の文字列"
   ]
  },
  {
   "cell_type": "code",
   "execution_count": null,
   "id": "e1f8cb60-88cf-419a-9947-ed93f02f9a3a",
   "metadata": {},
   "outputs": [],
   "source": [
    "c_form = ws['B14']\n",
    "c_form.value = '=AVERAGE(B2:B13)'\n",
    "print(c_form.value)\n",
    "# =AVERAGE(B2:B13)"
   ]
  },
  {
   "cell_type": "markdown",
   "id": "ab13d7fb-ac68-4a55-89e9-344c285a8eff",
   "metadata": {},
   "source": [
    "ワークブックを保存して開くと式が入力されて計算されている事が確認できます。"
   ]
  },
  {
   "cell_type": "code",
   "execution_count": null,
   "id": "4923b5ec-659d-4235-94e1-f91e6cba8982",
   "metadata": {},
   "outputs": [],
   "source": [
    "wb.save('sample_test.xlsx')"
   ]
  },
  {
   "cell_type": "markdown",
   "id": "74ba3834-ebda-452b-af86-ba3ee319cefb",
   "metadata": {},
   "source": [
    "保存したファイルをopenpyxlで開き直して数式を入力したセルの値を取得しても、計算結果の数値を取得することはできません。これはopenpyxlが文字列をそのまま取得するようになっているためです。"
   ]
  },
  {
   "cell_type": "code",
   "execution_count": null,
   "id": "fbb008bd-7790-4b97-930e-5aaa6e20b652",
   "metadata": {},
   "outputs": [],
   "source": [
    "wb_test = op.load_workbook('sample_test.xlsx')\n",
    "ws_test = wb_test['2020']\n",
    "c = ws_test['B14']\n",
    "print(c.value)\n",
    "# =AVERAGE(B2:B13)"
   ]
  },
  {
   "cell_type": "markdown",
   "id": "6329fb22-4cb6-47d1-ae9b-aa86ecfc03a3",
   "metadata": {},
   "source": [
    "計算結果を取得するには、一度手動でワークブックをエクセルアプリで開いて上書き保存する必要があります。その上で、openpyxlでブックを開く際に引数に data_only=True を指定することで取得できるようになります。（openpyxlに再計算させる手段は無いようです）"
   ]
  },
  {
   "cell_type": "code",
   "execution_count": null,
   "id": "14754862-f9cc-42e8-9b78-f93a2c3b8ade",
   "metadata": {},
   "outputs": [],
   "source": [
    "# エクセルアプリで開いて上書き保存した後に実行\n",
    "wb_data = op.load_workbook('sample_test.xlsx', data_only=True)\n",
    "ws_data = wb_data['2020']\n",
    "c_data = ws_data['B14']\n",
    "print(c_data.value)\n",
    "# 16.53333333333333"
   ]
  },
  {
   "cell_type": "markdown",
   "id": "c1f560c5-fc2a-449f-94f1-d5c28cecb66e",
   "metadata": {},
   "source": [
    "## セルのアドレスを確認する\n",
    "セルのアドレス（C1R1形式）は、セルオブジェクトの coordinate プロパティで取得できます。\n",
    "\n",
    " セルブジェクト.coordinate"
   ]
  },
  {
   "cell_type": "code",
   "execution_count": null,
   "id": "19ad2407-5abb-4f8c-9eea-1388d08637a0",
   "metadata": {},
   "outputs": [],
   "source": [
    "c = ws.cell(row=4, column=1)\n",
    "print(c.coordinate)\n",
    "# A4"
   ]
  },
  {
   "cell_type": "markdown",
   "id": "8499ae65-8e2c-4921-bf24-eb0679e0dd39",
   "metadata": {},
   "source": [
    "行列番号、列名はセルオブジェクトの row, column, column_letter で取得できます。\n",
    "\n",
    " 行番号\n",
    " セルオブジェクト.row\n",
    " 列番号\n",
    " セルオブジェクト.column\n",
    " 列名\n",
    " セルオブジェクト.column_letter"
   ]
  },
  {
   "cell_type": "code",
   "execution_count": null,
   "id": "52965514-12d0-4d6a-bf9e-baadbcbb794c",
   "metadata": {},
   "outputs": [],
   "source": [
    "# 行番号\n",
    "print(c.row)\n",
    "\n",
    "# 列番号\n",
    "print(c.column)\n",
    "\n",
    "# 列名\n",
    "print(c.column_letter)\n",
    "\n",
    "# 4\n",
    "# 1\n",
    "# A"
   ]
  },
  {
   "cell_type": "markdown",
   "id": "cdd5631f-2003-40d7-af12-b1766fe053a8",
   "metadata": {},
   "source": [
    "# 繰り返し処理\n",
    "## １シートずつ繰り返す\n",
    "ワークブックオブジェクトをfor文で処理すると１シートずつ取得することができます。"
   ]
  },
  {
   "cell_type": "code",
   "execution_count": null,
   "id": "3257b3f1-5be3-4220-b213-ae0dede196e7",
   "metadata": {},
   "outputs": [],
   "source": [
    "wb = op.load_workbook('sample.xlsx')\n",
    "for ws in wb:\n",
    "    print(ws.title) #シート名を出力\n",
    "#2020\n",
    "#2021"
   ]
  },
  {
   "cell_type": "markdown",
   "id": "7e401483-0e0e-4634-b1a9-403b1d4a222b",
   "metadata": {},
   "source": [
    "## １行ずつ繰り返す\n",
    "sample.xlsxのsheet1 A1：D13のデータを１行ずつ読み込みます。\n",
    "ワークシートオブジェクトの rows プロパティでシートの行を取得し、for文でループ処理することで１行ずつ読み込めます。\n",
    "\n",
    "以下の例では読み込んだデータを１行ずつリストに追加しています。"
   ]
  },
  {
   "cell_type": "code",
   "execution_count": null,
   "id": "742e1502-8fb4-4b39-9bfa-9f7bb588b114",
   "metadata": {
    "tags": []
   },
   "outputs": [],
   "source": [
    "ws = wb['2020']\n",
    "for row in ws.rows:\n",
    "    data = []\n",
    "    for cell in row:\n",
    "        data.append(cell.value)\n",
    "    print(data)\n",
    "\n",
    "#['年月日', '平均気温(℃)', '最高気温(℃)', '最低気温(℃)']\n",
    "#[datetime.datetime(2020, 1, 1, 0, 0), 7.1, 18.6, 0.6]\n",
    "#[datetime.datetime(2020, 2, 1, 0, 0), 10, 18.2, -2.1]\n",
    "#・・・・・\n",
    "#[datetime.datetime(2020, 12, 1, 0, 0), 7.7, 17.2, -0.6]"
   ]
  },
  {
   "cell_type": "markdown",
   "id": "379074c8-7dc4-48a5-9fd5-df6dd0e6e307",
   "metadata": {},
   "source": [
    "読み込む範囲を指定する場合には iter_rows() メソッドを利用します。\n",
    "次の例ではヘッダーを飛ばして２行目から読み込みます。"
   ]
  },
  {
   "cell_type": "code",
   "execution_count": null,
   "id": "f8320e30-fb88-4cba-a9a4-cafd993e951a",
   "metadata": {},
   "outputs": [],
   "source": [
    "#2行目からセルの値を取得\n",
    "for row in ws.iter_rows(min_row=2):\n",
    "    data = []\n",
    "    for cell in row:\n",
    "        data.append(cell.value)\n",
    "    print(data)\n",
    "\n",
    "#[datetime.datetime(2020, 1, 1, 0, 0), 7.1, 18.6, 0.6]\n",
    "#[datetime.datetime(2020, 2, 1, 0, 0), 8.3, 18.2, -2.1]\n",
    "# ・・・・・\n",
    "#[datetime.datetime(2020, 12, 1, 0, 0), 7.7, 17.2, -0.6]"
   ]
  },
  {
   "cell_type": "markdown",
   "id": "10dbe5dc-fcc1-4e7a-80d8-9d980dad1187",
   "metadata": {},
   "source": [
    "以下の例では２行目から１０行目、２列目から３列目までを読み込みます。"
   ]
  },
  {
   "cell_type": "code",
   "execution_count": null,
   "id": "e98c628c-acc9-4206-9df7-07f53b9ffa20",
   "metadata": {},
   "outputs": [],
   "source": [
    "#２行目から１０行目、２列目から３列目までセルの値を取得\n",
    "for row in ws.iter_rows(min_row=2, max_row=10, min_col=2, max_col=3):\n",
    "    data = []\n",
    "    for cell in row:\n",
    "        data.append(cell.value)\n",
    "    print(data)\n",
    "\n",
    "#[7.1, 18.6]\n",
    "#[8.3, 18.2]\n",
    "# ・・・・・\n",
    "#[24.2, 35.1]"
   ]
  },
  {
   "cell_type": "markdown",
   "id": "cf7f3799-be19-49f9-8f56-9ed4753cb991",
   "metadata": {},
   "source": [
    "## 全ワークシートのデータを取得する\n",
    "シートの繰り返し処理と１行ずつの繰り返し処理を入れ子にします。"
   ]
  },
  {
   "cell_type": "code",
   "execution_count": null,
   "id": "96d05f8c-eb7c-40b8-8920-d2cd7082bd21",
   "metadata": {},
   "outputs": [],
   "source": [
    "for ws in wb:\n",
    "    print(ws.title)\n",
    "    for row in ws.rows:\n",
    "        data = []\n",
    "        for cell in row:\n",
    "            data.append(cell.value)\n",
    "        print(data)\n",
    "\n",
    "#2020\n",
    "#[datetime.datetime(2020, 1, 1, 0, 0), 7.1, 18.6, 0.6]\n",
    "#[datetime.datetime(2020, 2, 1, 0, 0), 8.3, 18.2, -2.1]\n",
    "# ・・・・・\n",
    "#[datetime.datetime(2020, 12, 1, 0, 0), 7.7, 17.2, -0.6]\n",
    "#2021\n",
    "#[datetime.datetime(2021, 1, 1, 0, 0), 5.4, 18.7, -2.4]\n",
    "#[datetime.datetime(2021, 2, 1, 0, 0), 8.5, 21.9, -0.5]\n",
    "# ・・・・・\n",
    "#[datetime.datetime(2021, 12, 1, 0, 0), 8.1, 20.3, -2.2]"
   ]
  },
  {
   "cell_type": "markdown",
   "id": "890212fe-b9e0-4bb2-88c3-10bf4104a8c5",
   "metadata": {},
   "source": [
    "openpyxlを使ってExcelファイルを処理する方法を解説しました。"
   ]
  },
  {
   "cell_type": "code",
   "execution_count": null,
   "id": "6feccffb-a8e5-4954-b9f9-887aa4b101c0",
   "metadata": {},
   "outputs": [],
   "source": []
  }
 ],
 "metadata": {
  "kernelspec": {
   "display_name": "Python 3 (ipykernel)",
   "language": "python",
   "name": "python3"
  },
  "language_info": {
   "codemirror_mode": {
    "name": "ipython",
    "version": 3
   },
   "file_extension": ".py",
   "mimetype": "text/x-python",
   "name": "python",
   "nbconvert_exporter": "python",
   "pygments_lexer": "ipython3",
   "version": "3.10.4"
  }
 },
 "nbformat": 4,
 "nbformat_minor": 5
}
